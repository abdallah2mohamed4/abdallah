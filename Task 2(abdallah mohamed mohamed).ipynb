{
 "cells": [
  {
   "cell_type": "markdown",
   "id": "f470640a-a181-42e3-a396-31f719835b2c",
   "metadata": {},
   "source": [
    "## Lists"
   ]
  },
  {
   "cell_type": "markdown",
   "id": "253aa0b4-a266-423d-bc72-cc3c6ce33de1",
   "metadata": {},
   "source": [
    "### 1- Use list indexing to determine how many days are in a particular month based on the integer variable month, and store that value in the integer variable num_days. For example, if month is 8, num_days should be set to 31, since the eighth month, August, has 31 days.\n",
    "\n",
    "Remember to account for zero-based indexing!"
   ]
  },
  {
   "cell_type": "code",
   "execution_count": 1,
   "id": "534e2719-6abf-4fc3-af5c-6b7521831dde",
   "metadata": {},
   "outputs": [
    {
     "name": "stdout",
     "output_type": "stream",
     "text": [
      "31\n"
     ]
    }
   ],
   "source": [
    "# List containing the number of days in each month\n",
    "days_in_month = [31, 28, 31, 30, 31, 30, 31, 31, 30, 31, 30, 31]\n",
    "# Variable representing the month (1-12)\n",
    "month = 8  # For example, August\n",
    "# Using indexing to get the number of days in the specified month\n",
    "num_days = days_in_month[month - 1]  # Subtracting 1 because indexing starts from 0\n",
    "# Printing the result\n",
    "print(num_days)"
   ]
  },
  {
   "cell_type": "markdown",
   "id": "8ff33144-8515-4a29-acca-a382f0323f45",
   "metadata": {},
   "source": [
    "### Slicing Lists"
   ]
  },
  {
   "cell_type": "markdown",
   "id": "55d73547-be35-424f-b9b2-272a03e4f42b",
   "metadata": {},
   "source": [
    "### 2- Select the three most recent dates from this list using list slicing notation. Hint: negative indexes work in slices!"
   ]
  },
  {
   "cell_type": "code",
   "execution_count": 2,
   "id": "ae886cc7-ca81-43f5-8bdc-1bc810f32eaa",
   "metadata": {},
   "outputs": [
    {
     "name": "stdout",
     "output_type": "stream",
     "text": [
      "['November 13, 2012', 'March 20, 2015', 'March 9, 2016']\n"
     ]
    }
   ],
   "source": [
    "eclipse_dates = ['June 21, 2001', 'December 4, 2002', 'November 23, 2003',\n",
    "                 'March 29, 2006', 'August 1, 2008', 'July 22, 2009',\n",
    "                 'July 11, 2010', 'November 13, 2012', 'March 20, 2015','March 9, 2016']\n",
    "# Selecting the three most recent dates using list slicing\n",
    "most_recent_dates = eclipse_dates[-3:]\n",
    "# Printing the result\n",
    "print(most_recent_dates)"
   ]
  },
  {
   "cell_type": "markdown",
   "id": "1201fdfb-133f-4edc-a3c3-0587030ce1c9",
   "metadata": {},
   "source": [
    "### 3-  Define a Dictionary, population,that provides information on the world's largest cities.The key is the name of a city(a string), and the associated value is its population in millions of people.\n",
    "\n",
    "####   Key          |   Value\n",
    "#### Shanghai  |   17.8\n",
    "#### Istanbul  |   13.3\n",
    "#### Karachi   |   13.0\n",
    "#### Mumbai    |   12.5"
   ]
  },
  {
   "cell_type": "code",
   "execution_count": 4,
   "id": "f877f8ce-d5a1-421d-8269-c7eb2fb345de",
   "metadata": {},
   "outputs": [
    {
     "name": "stdout",
     "output_type": "stream",
     "text": [
      "{'Shanghai': 17.8, 'Istanbul': 13.3, 'Karachi': 13.0, 'Mumbai': 12.5}\n"
     ]
    }
   ],
   "source": [
    "# Define a dictionary that contains information about the world's largest cities\n",
    "population = {\n",
    "    'Shanghai': 17.8,\n",
    "    'Istanbul': 13.3,\n",
    "    'Karachi': 13.0,\n",
    "    'Mumbai': 12.5\n",
    "}\n",
    "\n",
    "# Print the dictionary\n",
    "print(population)"
   ]
  },
  {
   "cell_type": "markdown",
   "id": "bf7b5dfc-7fe2-4f32-8f2e-bf0f4117c821",
   "metadata": {},
   "source": [
    "### 4-In the code editor below, you'll find a dictionary containing the unique words of verse stored as keys and the number of times they appear in verse stored as values. Use this dictionary to answer the following questions. Submit these answers in the quiz below the code editor.\n",
    "\n",
    "Try to answer these using code, rather than inspecting the dictionary manually!\n",
    "\n",
    "How many unique words are in verse_dict?\n",
    "Is the key \"breathe\" in verse_dict?\n",
    "What is the first element in the list created when verse_dict is sorted by keys?\n",
    "Hint: Use the appropriate dictionary method to get a list of its keys, and then sort that list. Use this list of keys to answer the next two questions as well.\n",
    "Which key (word) has the highest value in verse_dict? "
   ]
  },
  {
   "cell_type": "code",
   "execution_count": 5,
   "id": "33839de1-6dca-40cc-83ba-0c603c136cd9",
   "metadata": {},
   "outputs": [
    {
     "name": "stdout",
     "output_type": "stream",
     "text": [
      "{'if': 3, 'you': 6, 'can': 3, 'keep': 1, 'your': 1, 'head': 1, 'when': 2, 'all': 2, 'about': 2, 'are': 1, 'losing': 1, 'theirs': 1, 'and': 3, 'blaming': 1, 'it': 1, 'on': 1, 'trust': 1, 'yourself': 1, 'men': 1, 'doubt': 1, 'but': 1, 'make': 1, 'allowance': 1, 'for': 1, 'their': 1, 'doubting': 1, 'too': 3, 'wait': 1, 'not': 1, 'be': 1, 'tired': 1, 'by': 1, 'waiting': 1, 'or': 2, 'being': 2, 'lied': 1, \"don't\": 3, 'deal': 1, 'in': 1, 'lies': 1, 'hated': 1, 'give': 1, 'way': 1, 'to': 1, 'hating': 1, 'yet': 1, 'look': 1, 'good': 1, 'nor': 1, 'talk': 1, 'wise': 1} \n",
      "\n",
      "Number of unique words: 51\n",
      "Is 'breathe' in verse_dict? False\n",
      "First element in sorted keys: about\n",
      "Key with the highest value: you\n"
     ]
    }
   ],
   "source": [
    "verse_dict =  {'if': 3, 'you': 6, 'can': 3, 'keep': 1, 'your': 1, 'head': 1, 'when': 2, 'all': 2, 'about': 2, 'are': 1, 'losing': 1, 'theirs': 1, 'and': 3, 'blaming': 1, 'it': 1, 'on': 1, 'trust': 1, 'yourself': 1, 'men': 1, 'doubt': 1, 'but': 1, 'make': 1, 'allowance': 1, 'for': 1, 'their': 1, 'doubting': 1, 'too': 3, 'wait': 1, 'not': 1, 'be': 1, 'tired': 1, 'by': 1, 'waiting': 1, 'or': 2, 'being': 2, 'lied': 1, 'don\\'t': 3, 'deal': 1, 'in': 1, 'lies': 1, 'hated': 1, 'give': 1, 'way': 1, 'to': 1, 'hating': 1, 'yet': 1, 'look': 1, 'good': 1, 'nor': 1, 'talk': 1, 'wise': 1}\n",
    "print(verse_dict, '\\n')\n",
    "\n",
    "\n",
    "# find number of unique keys in the dictionary\n",
    "\n",
    "def count_unique_words(dictionary):\n",
    "    return len(dictionary)\n",
    "    \n",
    "# find whether 'breathe' is a key in the dictionary\n",
    "\n",
    "def is_key_present(dictionary, key):\n",
    "    return key in dictionary\n",
    "\n",
    "# create and sort a list of the dictionary's keys\n",
    "\n",
    "def sorted_keys_list(dictionary):\n",
    "    return sorted(dictionary.keys())\n",
    "\n",
    "# get the first element in the sorted list of keys\n",
    "\n",
    "def first_sorted_key(dictionary):\n",
    "    sorted_keys = sorted_keys_list(dictionary)\n",
    "    return sorted_keys[0] if sorted_keys else None\n",
    "\n",
    "# find the element with the highest value in the list of keys\n",
    "\n",
    "def key_with_highest_value(dictionary):\n",
    "    return max(dictionary, key=dictionary.get)\n",
    "\n",
    "# Using the functions to answer the questions\n",
    "unique_word_count = count_unique_words(verse_dict)\n",
    "is_breathe_in_dict = is_key_present(verse_dict, \"breathe\")\n",
    "first_key = first_sorted_key(verse_dict)\n",
    "highest_value_key = key_with_highest_value(verse_dict)\n",
    "\n",
    "# Print the results\n",
    "print(\"Number of unique words:\", unique_word_count)\n",
    "print(\"Is 'breathe' in verse_dict?\", is_breathe_in_dict)\n",
    "print(\"First element in sorted keys:\", first_key)\n",
    "print(\"Key with the highest value:\", highest_value_key)    \n",
    "    "
   ]
  },
  {
   "cell_type": "code",
   "execution_count": null,
   "id": "74b8077e-ec4d-458e-981e-8f4ebbf03978",
   "metadata": {},
   "outputs": [],
   "source": [
    "#ADD 4 Functions For the data structures types from https://docs.python.org/3/tutorial/datastructures.html"
   ]
  }
 ],
 "metadata": {
  "kernelspec": {
   "display_name": "Python 3 (ipykernel)",
   "language": "python",
   "name": "python3"
  },
  "language_info": {
   "codemirror_mode": {
    "name": "ipython",
    "version": 3
   },
   "file_extension": ".py",
   "mimetype": "text/x-python",
   "name": "python",
   "nbconvert_exporter": "python",
   "pygments_lexer": "ipython3",
   "version": "3.11.4"
  }
 },
 "nbformat": 4,
 "nbformat_minor": 5
}
