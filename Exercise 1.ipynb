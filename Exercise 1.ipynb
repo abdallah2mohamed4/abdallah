{
 "cells": [
  {
   "cell_type": "markdown",
   "id": "595a57aa",
   "metadata": {},
   "source": [
    "<h3 align = \"center\"><font color=Green>Solve the following questions </font></h1>"
   ]
  },
  {
   "cell_type": "markdown",
   "id": "0b7c66d5",
   "metadata": {},
   "source": [
    "### question 1\n",
    "\n",
    ">\n",
    "> Create a summation calculator that takes two values from a user and print the summation of those two values.\n",
    "\n",
    "    Example\n",
    ">input\n",
    ">\n",
    "> x = 5\n",
    ">\n",
    "> y = 6\n",
    "\n",
    "\n",
    ">output\n",
    ">\n",
    ">z = 11\n"
   ]
  },
  {
   "cell_type": "code",
   "execution_count": 2,
   "id": "27d9ea68-c9b8-43b4-b682-763bd4811571",
   "metadata": {},
   "outputs": [
    {
     "name": "stdin",
     "output_type": "stream",
     "text": [
      "enter (x) 5\n",
      "enter (y) 6\n"
     ]
    },
    {
     "name": "stdout",
     "output_type": "stream",
     "text": [
      "z = 11\n"
     ]
    }
   ],
   "source": [
    "# Summation Calculator\n",
    "\n",
    "x = int(input(\"enter (x)\"))\n",
    "y = int(input(\"enter (y)\"))\n",
    "z=x+y\n",
    "# Print the result\n",
    "print(f\"z = {z}\")"
   ]
  },
  {
   "cell_type": "markdown",
   "id": "462ba485",
   "metadata": {},
   "source": [
    "### question 2\n",
    "\n",
    ">\n",
    "> Create a subtraction calculator that takes two values from a user and print the subtraction of those two values.\n",
    "\n",
    "    Example\n",
    ">input\n",
    ">\n",
    "> x = 5\n",
    ">\n",
    "> y = 6\n",
    "\n",
    "\n",
    ">output\n",
    ">\n",
    ">z = 1\n"
   ]
  },
  {
   "cell_type": "code",
   "execution_count": 16,
   "id": "c8101519-eea8-424d-9df1-26bb544c5da1",
   "metadata": {},
   "outputs": [
    {
     "name": "stdin",
     "output_type": "stream",
     "text": [
      "Enter the first value (y)  6\n",
      "Enter the second value (x)  5\n"
     ]
    },
    {
     "name": "stdout",
     "output_type": "stream",
     "text": [
      "z = 1\n"
     ]
    }
   ],
   "source": [
    "# Get input from the user\n",
    "\n",
    "x = int(input(\"Enter the first value (y) \"))\n",
    "y = int(input(\"Enter the second value (x) \"))\n",
    "\n",
    "# Calculate the subtraction \n",
    "\n",
    "z = x - y\n",
    "# print the result \n",
    "\n",
    "print(f\"z = {z}\")"
   ]
  },
  {
   "cell_type": "markdown",
   "id": "72e2ba2d",
   "metadata": {},
   "source": [
    "***"
   ]
  },
  {
   "cell_type": "markdown",
   "id": "155f7305",
   "metadata": {},
   "source": [
    "### question 3\n",
    "\n",
    ">\n",
    "> Create a division calculator that takes two values from a user and print two values \n",
    "> - The division of those two values.\n",
    "> - The division of those two values as an integer.\n",
    "\n",
    "    Example 1\n",
    ">input\n",
    ">\n",
    "> x = 10\n",
    ">\n",
    "> y = 2\n",
    "\n",
    "\n",
    ">output\n",
    ">\n",
    ">z = 5\n",
    "\n",
    "    Example 2\n",
    ">input\n",
    ">\n",
    "> x = 11\n",
    ">\n",
    "> y = 2\n",
    "\n",
    "\n",
    ">output\n",
    ">\n",
    ">z = 5"
   ]
  },
  {
   "cell_type": "code",
   "execution_count": 4,
   "id": "d1849f24",
   "metadata": {
    "scrolled": true
   },
   "outputs": [
    {
     "name": "stdin",
     "output_type": "stream",
     "text": [
      "Enter the first value (x)  10\n",
      "Enter the second value (y)  2\n"
     ]
    },
    {
     "name": "stdout",
     "output_type": "stream",
     "text": [
      "Integer division result 5 \n"
     ]
    },
    {
     "name": "stdin",
     "output_type": "stream",
     "text": [
      "Enter the first value (x)  11\n",
      "Enter the second value (y)  2\n"
     ]
    },
    {
     "name": "stdout",
     "output_type": "stream",
     "text": [
      "Integer division result 5 \n",
      "Integer division result (z) == 5\n"
     ]
    }
   ],
   "source": [
    "# write your code here\n",
    "# Division Calculator\n",
    "x = int(input(\"Enter the first value (x) \"))\n",
    "y = int(input(\"Enter the second value (y) \"))\n",
    "# Calculate the division\n",
    "z= x // y\n",
    "# Print the results\n",
    "print(f\"Integer division result {z} \")\n",
    "\n",
    "# Division Calculator\n",
    "x = int(input(\"Enter the first value (x) \"))\n",
    "y = int(input(\"Enter the second value (y) \"))\n",
    "# Calculate the division\n",
    "z= x // y\n",
    "# Print the results\n",
    "print(f\"Integer division result {z} \")\n",
    "print(f\"Integer division result (z) == {z}\")\n"
   ]
  },
  {
   "cell_type": "code",
   "execution_count": 8,
   "id": "43e78fef-e9a2-4a0f-9745-fede62bac03a",
   "metadata": {},
   "outputs": [
    {
     "name": "stdin",
     "output_type": "stream",
     "text": [
      "Insert number:  11\n",
      "Insert another number:  2\n"
     ]
    },
    {
     "name": "stdout",
     "output_type": "stream",
     "text": [
      "The divide = 5.5\n",
      "The actual divide = 5\n"
     ]
    }
   ],
   "source": [
    "# Get input from the user\n",
    "a = int(input(\"Insert number: \"))\n",
    "b = int(input(\"Insert another number: \"))\n",
    "\n",
    "# Perform division and floor division\n",
    "regular_divide = a / b\n",
    "floor_divide = a // b\n",
    "\n",
    "# Print the results\n",
    "print(\"The divide =\", regular_divide)\n",
    "print(\"The actual divide =\", floor_divide)"
   ]
  },
  {
   "cell_type": "code",
   "execution_count": null,
   "id": "ccc15437-2f18-46f6-afb0-59a6e00b0b6d",
   "metadata": {},
   "outputs": [],
   "source": []
  },
  {
   "cell_type": "markdown",
   "id": "a22d4269",
   "metadata": {},
   "source": [
    "***"
   ]
  },
  {
   "cell_type": "markdown",
   "id": "46224617",
   "metadata": {},
   "source": [
    "### question 4\n",
    "\n",
    "> Create a calculator takes three values\n",
    "> - x \"First input number\"\n",
    "> - y \"second input number\"\n",
    "> - operation \"Third input number\"\n",
    ">\n",
    "> make sure to apply the requested operation as needed.\n",
    "> if the operation is outside your defined choices you have to print a warning message\n",
    "\n",
    "    Example 1\n",
    ">input\n",
    ">\n",
    "> x = 5\n",
    ">\n",
    "> y = 6\n",
    ">\n",
    "> operation = sum or +\n",
    ">\n",
    "\n",
    ">output\n",
    ">\n",
    ">z = 11\n",
    "\n",
    "    Example 2\n",
    ">input\n",
    ">\n",
    "> x = 5\n",
    ">\n",
    "> y = 6\n",
    ">\n",
    "> operation = subtract or -\n",
    ">\n",
    "\n",
    ">output\n",
    ">\n",
    ">z = 1\n",
    " \n",
    "    Example 3\n",
    ">input\n",
    ">\n",
    "> x = 5\n",
    ">\n",
    "> y = 6\n",
    ">\n",
    "> operation = multiplication or *\n",
    ">\n",
    "\n",
    ">output\n",
    ">\n",
    ">z = 30\n",
    "\n",
    "    Example 4\n",
    ">input\n",
    ">\n",
    "> x = 50\n",
    ">\n",
    "> y = 10\n",
    ">\n",
    "> operation = division or /\n",
    ">\n",
    "\n",
    ">output\n",
    ">\n",
    ">z = 5\n"
   ]
  },
  {
   "cell_type": "code",
   "execution_count": 13,
   "id": "9455b13e",
   "metadata": {},
   "outputs": [
    {
     "name": "stdin",
     "output_type": "stream",
     "text": [
      "please enter the first number:  5\n",
      "please enter the operator:  *\n",
      "please enter the second number:  6\n"
     ]
    },
    {
     "name": "stdout",
     "output_type": "stream",
     "text": [
      "30\n"
     ]
    }
   ],
   "source": [
    "# write your code here\n",
    "x = int(input(\"please enter the first number: \"))\n",
    "operator = input(\"please enter the operator: \")\n",
    "y = int(input(\"please enter the second number: \"))\n",
    "\n",
    "if operator == \"+\":\n",
    "    print(x+y)\n",
    "elif operator == \"-\":\n",
    "    print(x-y)\n",
    "elif operator == \"/\":\n",
    "    print(x/y)\n",
    "elif operator == \"*\":\n",
    "    print(x*y)\n",
    "else:\n",
    "    print(\"wrong operator please tyr again\")"
   ]
  },
  {
   "cell_type": "markdown",
   "id": "d984bfac",
   "metadata": {},
   "source": [
    "***"
   ]
  },
  {
   "cell_type": "markdown",
   "id": "b06e3f87",
   "metadata": {},
   "source": [
    "### question 5\n",
    "\n",
    "> Create a calculator takes three values\n",
    "> - x \"First input number\"\n",
    "> - y \"second input number\"\n",
    "> - operation \"Third input\"\n",
    ">\n",
    "> You have to apply as many needed operation, until the user enter closing message \"finish or end\"\n",
    ">\n",
    "> Make sure to apply the requested operation as needed.\n",
    "> If the operation is outside your defined choices you have to print a warning message\n",
    "\n",
    "    Example 1\n",
    ">input\n",
    ">\n",
    "> x = 5\n",
    ">\n",
    "> y = 6\n",
    ">\n",
    "> operation = sum or +\n",
    ">\n",
    "\n",
    ">output\n",
    ">\n",
    ">z = 11\n",
    "\n",
    "    Example 2\n",
    ">input\n",
    ">\n",
    "> x = 5\n",
    ">\n",
    "> y = 6\n",
    ">\n",
    "> operation = subtract or -\n",
    ">\n",
    "\n",
    ">output\n",
    ">\n",
    ">z = 1\n",
    " \n",
    "    Example 3\n",
    ">input\n",
    ">\n",
    "> x = 5\n",
    ">\n",
    "> y = 6\n",
    ">\n",
    "> operation = multiplication or *\n",
    ">\n",
    "\n",
    ">output\n",
    ">\n",
    ">z = 30\n",
    "\n",
    "    Example 4\n",
    ">input\n",
    ">\n",
    "> x = 50\n",
    ">\n",
    "> y = 10\n",
    ">\n",
    "> operation = division or /\n",
    ">\n",
    "\n",
    ">output\n",
    ">\n",
    ">z = 5\n"
   ]
  },
  {
   "cell_type": "code",
   "execution_count": 10,
   "id": "e4347234",
   "metadata": {},
   "outputs": [
    {
     "name": "stdin",
     "output_type": "stream",
     "text": [
      "please enter the first number:  5\n",
      "please enter the operator:  +\n",
      "please enter the second number:  6\n"
     ]
    },
    {
     "name": "stdout",
     "output_type": "stream",
     "text": [
      "11\n"
     ]
    }
   ],
   "source": [
    "# Your code goes here\n",
    "# Start the program\n",
    "x = int(input(\"please enter the first number: \"))\n",
    "operator = input(\"please enter the operator: \")\n",
    "y = int(input(\"please enter the second number: \"))\n",
    "# Check for program termination\n",
    "if operation.lower() in [\"finish\", \"end\"]:\n",
    "    print(\"Program terminated.\")\n",
    "# Perform the requested operation\n",
    "if operator == \"+\":\n",
    "            print(x+y)\n",
    "elif operator == \"-\":\n",
    "            print(x-y)\n",
    "elif operator == \"/\":\n",
    "         print(x/y)\n",
    "elif operator == \"*\":\n",
    "           print(x*y)\n",
    "else:\n",
    "    print(\"wrong operator please tyr again\")"
   ]
  },
  {
   "cell_type": "markdown",
   "id": "eb8f30d8",
   "metadata": {},
   "source": [
    "***"
   ]
  },
  {
   "cell_type": "markdown",
   "id": "f890ca5b-8f6b-4dc8-9a4b-e1b1590b8831",
   "metadata": {},
   "source": [
    "### Question 6\n",
    "\n",
    "Write python script to print the following shape\n",
    "                "
   ]
  },
  {
   "cell_type": "code",
   "execution_count": 4,
   "id": "c4c23da3-b578-4b0a-b313-a4fc739371d0",
   "metadata": {},
   "outputs": [
    {
     "ename": "SyntaxError",
     "evalue": "invalid syntax (4161124456.py, line 1)",
     "output_type": "error",
     "traceback": [
      "\u001b[1;36m  Cell \u001b[1;32mIn[4], line 1\u001b[1;36m\u001b[0m\n\u001b[1;33m    ******************\u001b[0m\n\u001b[1;37m    ^\u001b[0m\n\u001b[1;31mSyntaxError\u001b[0m\u001b[1;31m:\u001b[0m invalid syntax\n"
     ]
    }
   ],
   "source": [
    "******************\n",
    "   ***************\n",
    "      ************\n",
    "         *********\n",
    "            ******\n",
    "               ***"
   ]
  },
  {
   "cell_type": "code",
   "execution_count": null,
   "id": "53e39b4b-7275-48d6-bb65-82bc7e932fd5",
   "metadata": {},
   "outputs": [],
   "source": []
  },
  {
   "cell_type": "markdown",
   "id": "45d6fbcb-f237-49ba-bca1-87e31e8c0993",
   "metadata": {},
   "source": [
    "### Question 7\n",
    "Write python script to print the following shape"
   ]
  },
  {
   "cell_type": "code",
   "execution_count": null,
   "id": "81700e77-30da-4ce2-93e4-f45ee432a93a",
   "metadata": {},
   "outputs": [],
   "source": [
    "\n",
    "***\n",
    "******\n",
    "*********\n",
    "************\n",
    "***************"
   ]
  },
  {
   "cell_type": "markdown",
   "id": "420c5259-c071-4883-9d7f-96b72c2263fd",
   "metadata": {},
   "source": [
    "### Question 8\n",
    "Write python script to print the following shape"
   ]
  },
  {
   "cell_type": "code",
   "execution_count": null,
   "id": "3c80cbe6-1017-491b-a7f6-1520c4f56b15",
   "metadata": {},
   "outputs": [],
   "source": [
    "            *             \n",
    "           ***\n",
    "          *****\n",
    "         *******\n",
    "        *********"
   ]
  },
  {
   "cell_type": "markdown",
   "id": "ee35ca5f-9541-4529-9d71-b0ccd5c5adee",
   "metadata": {},
   "source": [
    "****************"
   ]
  },
  {
   "cell_type": "markdown",
   "id": "004ecfc4",
   "metadata": {
    "jupyter": {
     "source_hidden": true
    }
   },
   "source": [
    "***"
   ]
  },
  {
   "cell_type": "markdown",
   "id": "ebd9abc6-802a-41bb-b917-7148de8f84bf",
   "metadata": {},
   "source": [
    "### question 10\n",
    "\n",
    "Create a random password generator with the following conditions:\n",
    " - Has to be at least 10 characters\n",
    " - Has to have one or more of the special characters\n",
    " - Has to have combination of lower and upper cases letters\n",
    " - Has to have numbers"
   ]
  },
  {
   "cell_type": "code",
   "execution_count": 9,
   "id": "ebdcd71f-8e2b-4348-a91a-944da0c597d1",
   "metadata": {},
   "outputs": [
    {
     "ename": "IndentationError",
     "evalue": "unindent does not match any outer indentation level (<tokenize>, line 24)",
     "output_type": "error",
     "traceback": [
      "\u001b[1;36m  File \u001b[1;32m<tokenize>:24\u001b[1;36m\u001b[0m\n\u001b[1;33m    all_characters = lower_case + upper_case + digits + special_characters\u001b[0m\n\u001b[1;37m    ^\u001b[0m\n\u001b[1;31mIndentationError\u001b[0m\u001b[1;31m:\u001b[0m unindent does not match any outer indentation level\n"
     ]
    }
   ],
   "source": [
    "# Your code goes here\n",
    "import random\n",
    "import string\n",
    "\n",
    "def generate_password(length=10):\n",
    "    if length < 10:\n",
    "        raise ValueError(\"Password length must be at least 10 characters.\")\n",
    "\n",
    "  # Define character sets\n",
    "lower_case = string.ascii_lowercase\n",
    "upper_case = string.ascii_uppercase\n",
    "digits = string.digits\n",
    "special_characters = string.punctuation\n",
    "\n",
    " # Ensure the password meets the criteria\n",
    " password = \n",
    "random.choice(lower_case),          # At least one lowercase letter\n",
    "   random.choice(upper_case),          # At least one uppercase letter\n",
    "random.choice(digits),              # At least one digit\n",
    "       random.choice(special_characters)   # At least one special character\n",
    "  \n",
    "\n",
    "    # Fill the rest of the password length with random choices from all character sets\n",
    "    all_characters = lower_case + upper_case + digits + special_characters\n",
    "    password += random.choices(all_characters, k=length - 4)\n",
    "\n",
    "   # Shuffle the password list to ensure randomness\n",
    "   random.shuffle(password)\n",
    "\n",
    "    # Convert the list to a string\n",
    "    return ''.join(password)\n",
    "\n",
    "# Generate a random password\n",
    "password_length = 12  # You can change this to any length >= 10\n",
    "random_password = generate_password(password_length)\n",
    "print(\"Generated Password:\", random_password)"
   ]
  },
  {
   "cell_type": "markdown",
   "id": "b9004989-2328-4d08-95f5-93cd3ab30f41",
   "metadata": {},
   "source": [
    "# Ensure it has at least one character of each"
   ]
  },
  {
   "cell_type": "markdown",
   "id": "8c29b8e9-4ca3-47d2-aa76-d50c9d92bde2",
   "metadata": {},
   "source": [
    "# Using string module"
   ]
  },
  {
   "cell_type": "code",
   "execution_count": null,
   "id": "f6207ebd-818b-4c90-aa16-a9baf0664372",
   "metadata": {},
   "outputs": [],
   "source": []
  }
 ],
 "metadata": {
  "kernelspec": {
   "display_name": "Python 3 (ipykernel)",
   "language": "python",
   "name": "python3"
  },
  "language_info": {
   "codemirror_mode": {
    "name": "ipython",
    "version": 3
   },
   "file_extension": ".py",
   "mimetype": "text/x-python",
   "name": "python",
   "nbconvert_exporter": "python",
   "pygments_lexer": "ipython3",
   "version": "3.11.4"
  }
 },
 "nbformat": 4,
 "nbformat_minor": 5
}
